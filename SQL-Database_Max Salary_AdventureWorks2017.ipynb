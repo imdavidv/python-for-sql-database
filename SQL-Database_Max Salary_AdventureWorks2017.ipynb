{
 "cells": [
  {
   "cell_type": "code",
   "execution_count": 15,
   "metadata": {},
   "outputs": [],
   "source": [
    "# Import libraries\n",
    "import pyodbc as py\n",
    "import pandas as pd"
   ]
  },
  {
   "cell_type": "code",
   "execution_count": 16,
   "metadata": {},
   "outputs": [],
   "source": [
    "# Create connection to Microsoft SQL Database\n",
    "cnxn = py.connect(\"DRIVER={ODBC Driver 17 for SQL Server};\"\n",
    "                  \"SERVER=DESKTOP-1UTCB6C;\"\n",
    "                  \"DATABASE=AdventureWorks2017;\"\n",
    "                  \"TRUSTED_Connection=yes;\")"
   ]
  },
  {
   "cell_type": "code",
   "execution_count": 20,
   "metadata": {},
   "outputs": [
    {
     "data": {
      "text/html": [
       "<div>\n",
       "<style scoped>\n",
       "    .dataframe tbody tr th:only-of-type {\n",
       "        vertical-align: middle;\n",
       "    }\n",
       "\n",
       "    .dataframe tbody tr th {\n",
       "        vertical-align: top;\n",
       "    }\n",
       "\n",
       "    .dataframe thead th {\n",
       "        text-align: right;\n",
       "    }\n",
       "</style>\n",
       "<table border=\"1\" class=\"dataframe\">\n",
       "  <thead>\n",
       "    <tr style=\"text-align: right;\">\n",
       "      <th></th>\n",
       "      <th>BusinessEntityID</th>\n",
       "      <th>RateChangeDate</th>\n",
       "      <th>Rate</th>\n",
       "      <th>PayFrequency</th>\n",
       "      <th>ModifiedDate</th>\n",
       "    </tr>\n",
       "  </thead>\n",
       "  <tbody>\n",
       "    <tr>\n",
       "      <th>0</th>\n",
       "      <td>1</td>\n",
       "      <td>2009-01-14</td>\n",
       "      <td>125.5000</td>\n",
       "      <td>2</td>\n",
       "      <td>2014-06-30</td>\n",
       "    </tr>\n",
       "    <tr>\n",
       "      <th>28</th>\n",
       "      <td>25</td>\n",
       "      <td>2009-02-03</td>\n",
       "      <td>84.1346</td>\n",
       "      <td>2</td>\n",
       "      <td>2014-06-30</td>\n",
       "    </tr>\n",
       "    <tr>\n",
       "      <th>298</th>\n",
       "      <td>273</td>\n",
       "      <td>2011-02-15</td>\n",
       "      <td>72.1154</td>\n",
       "      <td>2</td>\n",
       "      <td>2014-06-30</td>\n",
       "    </tr>\n",
       "    <tr>\n",
       "      <th>1</th>\n",
       "      <td>2</td>\n",
       "      <td>2008-01-31</td>\n",
       "      <td>63.4615</td>\n",
       "      <td>2</td>\n",
       "      <td>2014-06-30</td>\n",
       "    </tr>\n",
       "    <tr>\n",
       "      <th>257</th>\n",
       "      <td>234</td>\n",
       "      <td>2012-01-29</td>\n",
       "      <td>60.0962</td>\n",
       "      <td>2</td>\n",
       "      <td>2012-01-15</td>\n",
       "    </tr>\n",
       "    <tr>\n",
       "      <th>288</th>\n",
       "      <td>263</td>\n",
       "      <td>2008-12-11</td>\n",
       "      <td>50.4808</td>\n",
       "      <td>2</td>\n",
       "      <td>2014-06-30</td>\n",
       "    </tr>\n",
       "    <tr>\n",
       "      <th>8</th>\n",
       "      <td>7</td>\n",
       "      <td>2009-02-08</td>\n",
       "      <td>50.4808</td>\n",
       "      <td>2</td>\n",
       "      <td>2014-06-30</td>\n",
       "    </tr>\n",
       "    <tr>\n",
       "      <th>256</th>\n",
       "      <td>234</td>\n",
       "      <td>2011-11-14</td>\n",
       "      <td>48.5577</td>\n",
       "      <td>2</td>\n",
       "      <td>2011-10-31</td>\n",
       "    </tr>\n",
       "    <tr>\n",
       "      <th>299</th>\n",
       "      <td>274</td>\n",
       "      <td>2011-01-04</td>\n",
       "      <td>48.1010</td>\n",
       "      <td>2</td>\n",
       "      <td>2014-06-30</td>\n",
       "    </tr>\n",
       "    <tr>\n",
       "      <th>310</th>\n",
       "      <td>285</td>\n",
       "      <td>2013-03-14</td>\n",
       "      <td>48.1010</td>\n",
       "      <td>2</td>\n",
       "      <td>2014-06-30</td>\n",
       "    </tr>\n",
       "  </tbody>\n",
       "</table>\n",
       "</div>"
      ],
      "text/plain": [
       "     BusinessEntityID RateChangeDate      Rate  PayFrequency ModifiedDate\n",
       "0                   1     2009-01-14  125.5000             2   2014-06-30\n",
       "28                 25     2009-02-03   84.1346             2   2014-06-30\n",
       "298               273     2011-02-15   72.1154             2   2014-06-30\n",
       "1                   2     2008-01-31   63.4615             2   2014-06-30\n",
       "257               234     2012-01-29   60.0962             2   2012-01-15\n",
       "288               263     2008-12-11   50.4808             2   2014-06-30\n",
       "8                   7     2009-02-08   50.4808             2   2014-06-30\n",
       "256               234     2011-11-14   48.5577             2   2011-10-31\n",
       "299               274     2011-01-04   48.1010             2   2014-06-30\n",
       "310               285     2013-03-14   48.1010             2   2014-06-30"
      ]
     },
     "execution_count": 20,
     "metadata": {},
     "output_type": "execute_result"
    }
   ],
   "source": [
    "# create dataframe to look at the top ten pay rates\n",
    "Salary = pd.read_sql_query ('SELECT * FROM HumanResources.EmployeePayHistory', cnxn)\n",
    "Salary.sort_values(['Rate'], ascending=False).head(10)"
   ]
  },
  {
   "cell_type": "code",
   "execution_count": 18,
   "metadata": {},
   "outputs": [
    {
     "data": {
      "text/html": [
       "<div>\n",
       "<style scoped>\n",
       "    .dataframe tbody tr th:only-of-type {\n",
       "        vertical-align: middle;\n",
       "    }\n",
       "\n",
       "    .dataframe tbody tr th {\n",
       "        vertical-align: top;\n",
       "    }\n",
       "\n",
       "    .dataframe thead th {\n",
       "        text-align: right;\n",
       "    }\n",
       "</style>\n",
       "<table border=\"1\" class=\"dataframe\">\n",
       "  <thead>\n",
       "    <tr style=\"text-align: right;\">\n",
       "      <th></th>\n",
       "      <th>Rate_Max</th>\n",
       "    </tr>\n",
       "  </thead>\n",
       "  <tbody>\n",
       "    <tr>\n",
       "      <th>0</th>\n",
       "      <td>125.5</td>\n",
       "    </tr>\n",
       "  </tbody>\n",
       "</table>\n",
       "</div>"
      ],
      "text/plain": [
       "   Rate_Max\n",
       "0     125.5"
      ]
     },
     "execution_count": 18,
     "metadata": {},
     "output_type": "execute_result"
    }
   ],
   "source": [
    "# Run an SQL query to see the highest pay\n",
    "MaxSalary = pd.read_sql_query ('SELECT MAX(Rate) AS Rate_Max FROM HumanResources.EmployeePayHistory', cnxn)\n",
    "MaxSalary"
   ]
  },
  {
   "cell_type": "code",
   "execution_count": 19,
   "metadata": {},
   "outputs": [
    {
     "data": {
      "text/html": [
       "<div>\n",
       "<style scoped>\n",
       "    .dataframe tbody tr th:only-of-type {\n",
       "        vertical-align: middle;\n",
       "    }\n",
       "\n",
       "    .dataframe tbody tr th {\n",
       "        vertical-align: top;\n",
       "    }\n",
       "\n",
       "    .dataframe thead th {\n",
       "        text-align: right;\n",
       "    }\n",
       "</style>\n",
       "<table border=\"1\" class=\"dataframe\">\n",
       "  <thead>\n",
       "    <tr style=\"text-align: right;\">\n",
       "      <th></th>\n",
       "      <th>Rate_Max</th>\n",
       "    </tr>\n",
       "  </thead>\n",
       "  <tbody>\n",
       "    <tr>\n",
       "      <th>0</th>\n",
       "      <td>84.1346</td>\n",
       "    </tr>\n",
       "  </tbody>\n",
       "</table>\n",
       "</div>"
      ],
      "text/plain": [
       "   Rate_Max\n",
       "0   84.1346"
      ]
     },
     "execution_count": 19,
     "metadata": {},
     "output_type": "execute_result"
    }
   ],
   "source": [
    "# Run an SQL query to see the second highest pay\n",
    "MaxSalary_2 = pd.read_sql_query ('SELECT MAX(Rate) AS Rate_Max FROM HumanResources.EmployeePayHistory WHERE Rate NOT IN (SELECT MAX(Rate) FROM HumanResources.EmployeePayHistory)', cnxn)\n",
    "MaxSalary_2"
   ]
  }
 ],
 "metadata": {
  "kernelspec": {
   "display_name": "Python 3",
   "language": "python",
   "name": "python3"
  },
  "language_info": {
   "codemirror_mode": {
    "name": "ipython",
    "version": 3
   },
   "file_extension": ".py",
   "mimetype": "text/x-python",
   "name": "python",
   "nbconvert_exporter": "python",
   "pygments_lexer": "ipython3",
   "version": "3.6.5"
  }
 },
 "nbformat": 4,
 "nbformat_minor": 2
}
